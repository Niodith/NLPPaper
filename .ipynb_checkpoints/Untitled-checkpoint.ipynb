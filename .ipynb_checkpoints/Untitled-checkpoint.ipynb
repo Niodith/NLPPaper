{
 "cells": [
  {
   "cell_type": "code",
   "execution_count": null,
   "metadata": {},
   "outputs": [],
   "source": [
    "# Abstract\n",
    "\n"
   ]
  },
  {
   "cell_type": "markdown",
   "metadata": {},
   "source": [
    "# Introduction\n",
    "\n",
    "Data to text generation is a fairly new approach in modern industry to use deep learning for buisness purposes.\n",
    "It has a great potential in being used for filling content on websites or databases that seem way more natural than its 'pure' data counterpart. That thing machines normally lack is natural lanugage. NLP natural language processing is a possibillity to use machines for human interaction - in the way of writing descriptions or articles like a human would do."
   ]
  },
  {
   "cell_type": "markdown",
   "metadata": {},
   "source": [
    "# Natrual Langugage Processing (NLP)\n",
    "\n",
    "NLP is a model to let a machine work with language as a human would do. A human would understand the written (or spoken) word and regain information from that - the machine without further doing lacks the human understanding.\n",
    "\n",
    "## History of NLP\n",
    "\n",
    "The roots of NLP go back to the 1950s where Alan Turing referred to it in one of his articles regarding the Turing Test [quote]"
   ]
  },
  {
   "cell_type": "code",
   "execution_count": null,
   "metadata": {},
   "outputs": [],
   "source": []
  }
 ],
 "metadata": {
  "kernelspec": {
   "display_name": "Python 3",
   "language": "python",
   "name": "python3"
  },
  "language_info": {
   "codemirror_mode": {
    "name": "ipython",
    "version": 3
   },
   "file_extension": ".py",
   "mimetype": "text/x-python",
   "name": "python",
   "nbconvert_exporter": "python",
   "pygments_lexer": "ipython3",
   "version": "3.8.2"
  }
 },
 "nbformat": 4,
 "nbformat_minor": 4
}
